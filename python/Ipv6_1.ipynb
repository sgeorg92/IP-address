{
 "cells": [
  {
   "cell_type": "code",
   "execution_count": null,
   "metadata": {},
   "outputs": [],
   "source": []
  },
  {
   "cell_type": "code",
   "execution_count": null,
   "metadata": {},
   "outputs": [],
   "source": []
  },
  {
   "cell_type": "code",
   "execution_count": 1,
   "metadata": {},
   "outputs": [
    {
     "name": "stderr",
     "output_type": "stream",
     "text": [
      "C:\\Users\\sarah\\.anaconda\\Anaconda\\lib\\site-packages\\IPython\\core\\interactiveshell.py:3020: DtypeWarning: Columns (6) have mixed types. Specify dtype option on import or set low_memory=False.\n",
      "  interactivity=interactivity, compiler=compiler, result=result)\n"
     ]
    },
    {
     "ename": "NameError",
     "evalue": "name 'arin' is not defined",
     "output_type": "error",
     "traceback": [
      "\u001b[1;31m---------------------------------------------------------------------------\u001b[0m",
      "\u001b[1;31mNameError\u001b[0m                                 Traceback (most recent call last)",
      "\u001b[1;32m<ipython-input-1-6e5ac4ba5ac6>\u001b[0m in \u001b[0;36m<module>\u001b[1;34m\u001b[0m\n\u001b[0;32m     11\u001b[0m \u001b[1;33m\u001b[0m\u001b[0m\n\u001b[0;32m     12\u001b[0m \u001b[0marin4\u001b[0m\u001b[1;33m[\u001b[0m\u001b[1;34m'cumsum'\u001b[0m\u001b[1;33m]\u001b[0m\u001b[1;33m=\u001b[0m\u001b[0marin4\u001b[0m\u001b[1;33m[\u001b[0m\u001b[1;34m'size'\u001b[0m\u001b[1;33m]\u001b[0m\u001b[1;33m.\u001b[0m\u001b[0mcumsum\u001b[0m\u001b[1;33m(\u001b[0m\u001b[1;33m)\u001b[0m\u001b[1;33m\u001b[0m\u001b[1;33m\u001b[0m\u001b[0m\n\u001b[1;32m---> 13\u001b[1;33m \u001b[0marin\u001b[0m\u001b[1;33m[\u001b[0m\u001b[1;34m'cumsum'\u001b[0m\u001b[1;33m]\u001b[0m\u001b[1;33m=\u001b[0m\u001b[0marin\u001b[0m\u001b[1;33m[\u001b[0m\u001b[1;34m'size'\u001b[0m\u001b[1;33m]\u001b[0m\u001b[1;33m.\u001b[0m\u001b[0mcumsum\u001b[0m\u001b[1;33m(\u001b[0m\u001b[1;33m)\u001b[0m\u001b[1;33m\u001b[0m\u001b[1;33m\u001b[0m\u001b[0m\n\u001b[0m",
      "\u001b[1;31mNameError\u001b[0m: name 'arin' is not defined"
     ]
    }
   ],
   "source": [
    "import os \n",
    "import pandas as pd \n",
    "import numpy as np\n",
    "import matplotlib.pyplot as plt\n",
    "os.chdir('C:/Users/sarah/Dropbox/Upenn Year 3/paper/IP Address/arin data/data')\n",
    "#The _all include all the rir's, not just arin\n",
    "#arin=pd.read_csv('arin.csv')\n",
    "arin4=pd.read_csv('arin4.csv')\n",
    "#arin=pd.read_csv('arin_all.csv')\n",
    "arin4=pd.read_csv('arin4_all.csv')\n",
    "\n",
    "arin4['cumsum']=arin4['size'].cumsum()\n",
    "arin['cumsum']=arin['size'].cumsum()\n"
   ]
  },
  {
   "cell_type": "code",
   "execution_count": 16,
   "metadata": {},
   "outputs": [],
   "source": [
    "#Here I try to create panel data out of the dataset I have\n",
    "arin4=arin4.drop(columns=['prefix','cumsum'])\n",
    "arin4_panel=arin4.groupby(['org','date_assigned']).sum()\n",
    "arin=arin.drop(columns=['prefix','cumsum'])\n",
    "arin_panel=arin.groupby(['org','date_assigned']).sum()\n",
    "arin4_panel=arin4_panel.sort_values(['org','date_assigned'])\n",
    "#arin4_panel['cumsum']=arin4_panel.groupby('org')['size'].cumsum()\n",
    "arin_panel=arin_panel.sort_values(['org','date_assigned'])\n",
    "#arin_panel['cumsum']=arin_panel.groupby('org')['size'].cumsum()\n",
    "#arin_panel=arin_panel.drop(columns='size')\n",
    "#arin4_panel=arin4_panel.drop(columns='size')"
   ]
  },
  {
   "cell_type": "code",
   "execution_count": 31,
   "metadata": {},
   "outputs": [],
   "source": [
    "#Creating the cumulative dataset\n",
    "joined=arin4_panel.join(arin_panel,how='outer',lsuffix='4',rsuffix='6')\n",
    "joined['adopt']=1-(joined['size6'].isna())\n",
    "joined.reset_index(level=['org','date_assigned'],inplace=True)\n",
    "joined.set_index('date_assigned')\n",
    "joined=joined.fillna(value=0)\n",
    "joined['cumsum4']=joined.groupby('org')['size4'].cumsum()\n",
    "joined['cumsum6']=joined.groupby('org')['size6'].cumsum()\n",
    "joined.to_csv(r'C:/Users/sarah/Dropbox/Upenn Year 3/paper/IP Address/arin data/data/join.csv',index=False)\n"
   ]
  },
  {
   "cell_type": "code",
   "execution_count": null,
   "metadata": {},
   "outputs": [],
   "source": [
    "#Some histograms \n",
    "#Installed base for the Ipv4 is much bigger compared to the installed base for ipv6\n",
    "arin['date_assigned']=pd.to_datetime(arin['date_assigned'])\n",
    "arin[['org','date_assigned']].groupby('date_assigned').nunique().cumsum().plot()\n",
    "plt.title('No: of organizations assigned -IPV6')\n",
    "plt.savefig('C:/Users/sarah/Dropbox/Upenn Year 3/paper/IP Address/arin data/figures/Org_no_v6_cumsum.png')\n",
    "plt.cla()\n",
    "arin4['date_assigned']=pd.to_datetime(arin4['date_assigned'])\n",
    "arin4[['org','date_assigned']].groupby('date_assigned').nunique().cumsum().plot()\n",
    "plt.title('No: of organizations assigned -IPV4')\n",
    "plt.savefig('C:/Users/sarah/Dropbox/Upenn Year 3/paper/IP Address/arin data/figures/Org_no_v4_cumsum.png')\n",
    "plt.cla()\n",
    "arin['date_assigned']=pd.to_datetime(arin['date_assigned'])\n",
    "arin[['org','date_assigned']].groupby('date_assigned').nunique().plot()\n",
    "plt.title('No: of organizations assigned -IPV6')\n",
    "plt.savefig('C:/Users/sarah/Dropbox/Upenn Year 3/paper/IP Address/arin data/figures/Org_no_v6.png')\n",
    "plt.cla()\n",
    "arin4['date_assigned']=pd.to_datetime(arin4['date_assigned'])\n",
    "arin4[['org','date_assigned']].groupby('date_assigned').nunique().plot()\n",
    "plt.title('No: of organizations assigned -IPV4')\n",
    "plt.savefig('C:/Users/sarah/Dropbox/Upenn Year 3/paper/IP Address/arin data/figures/Org_no_v4.png')\n",
    "plt.cla()\n",
    "\n",
    "plt.hist(arin['prefix'])\n",
    "plt.title('IPV6 size distribution')\n",
    "plt.savefig(\"C:/Users/sarah/Dropbox/Upenn Year 3/paper/IP Address/arin data/figures/v6_size.png\")\n",
    "plt.cla()\n",
    "plt.hist(arin4['prefix'])\n",
    "plt.title('IPV4 size distribution')\n",
    "plt.savefig(\"C:/Users/sarah/Dropbox/Upenn Year 3/paper/IP Address/arin data/figures/v4_size.png\")\n",
    "plt.cla()\n",
    "\n",
    "plt.hist(arin['date_assigned'])\n",
    "plt.title('No: of assignments over time -IPV6')\n",
    "plt.savefig('C:/Users/sarah/Dropbox/Upenn Year 3/paper/IP Address/arin data/figures/v6.png')\n",
    "plt.cla()\n",
    "plt.hist(arin4['date_assigned'])\n",
    "plt.title('No: of assignments over time -IPV4')\n",
    "plt.savefig('C:/Users/sarah/Dropbox/Upenn Year 3/paper/IP Address/arin data/figures/v4.png')\n",
    "arin4['date_assigned']=pd.to_datetime(arin4['date_assigned'])\n",
    "arin4.plot(x='date_assigned',y='cumsum')\n",
    "plt.title(\"IPv4 addresses over time\")\n",
    "plt.savefig(\"C:/Users/sarah/Dropbox/Upenn Year 3/paper/IP Address/arin data/figures/v4_cumsum.png\")\n",
    "arin['date_assigned']=pd.to_datetime(arin['date_assigned'])\n",
    "arin.plot(x='date_assigned',y='cumsum')\n",
    "plt.title(\"IPv6 addresses over time\")\n",
    "plt.savefig(\"C:/Users/sarah/Dropbox/Upenn Year 3/paper/IP Address/arin data/figures/v6_cumsum.png\")\n",
    "\n",
    "\n"
   ]
  }
 ],
 "metadata": {
  "kernelspec": {
   "display_name": "Python 3",
   "language": "python",
   "name": "python3"
  },
  "language_info": {
   "codemirror_mode": {
    "name": "ipython",
    "version": 3
   },
   "file_extension": ".py",
   "mimetype": "text/x-python",
   "name": "python",
   "nbconvert_exporter": "python",
   "pygments_lexer": "ipython3",
   "version": "3.7.1"
  }
 },
 "nbformat": 4,
 "nbformat_minor": 2
}
