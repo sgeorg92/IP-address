{
 "cells": [
  {
   "cell_type": "code",
   "execution_count": 62,
   "metadata": {},
   "outputs": [],
   "source": [
    "import pyblp \n",
    "import numpy as np \n",
    "import pandas as pd \n",
    "import os \n",
    "os.chdir(\"C:/Users/sarah/Dropbox/Upenn Year 3/kraft_heinz\")\n",
    "import statsmodels.api as sm\n",
    "\n",
    "def generateBLPStyleIV(df   , market_time , market_region , attr_list, func):\n",
    "    right_df = df.groupby([market_time , market_region] ).apply(lambda x\n",
    "                                     : func(x[attr_list])).reset_index()\n",
    "    merged_df = pd.merge(df , right_df , how='left' ,\n",
    "        on=[market_time , market_region] , suffixes = ['','_total'])\n",
    "    Z = np.matrix(merged_df[[l + \"_total\" for l in attr_list]]) - np.matrix(merged_df[attr_list])\n",
    "    return Z\n",
    "\n",
    "\n",
    "#def generateHausmanStyleIV(df   , market_time , market_region , attr_list, func):\n",
    "df = pd.read_csv(\"demand1.csv\")\n"
   ]
  },
  {
   "cell_type": "code",
   "execution_count": 63,
   "metadata": {},
   "outputs": [],
   "source": [
    "Z1 = generateBLPStyleIV(df,'market_ids','date_month',['price'], func=np.mean)\n",
    "Z2 = generateBLPStyleIV(df,'market_ids','date_month',['price'],\n",
    "                        func=lambda x: np.sqrt(np.mean(x**2)))\n",
    "Z = np.concatenate([Z1,Z2], axis = 1)\n",
    "zf = pd.DataFrame(Z, columns = [\"demand_instruments\" + str(i) for i in range(0,Z.shape[1])])\n",
    "bf = pd.concat([df,zf],axis = 1)\n",
    "bf['const']=1\n",
    "export_csv = bf.to_csv (r'demandZ.csv', index = None, header=True) #Don't forget to add '.csv' at the end of the path"
   ]
  },
  {
   "cell_type": "code",
   "execution_count": 31,
   "metadata": {},
   "outputs": [
    {
     "name": "stdout",
     "output_type": "stream",
     "text": [
      "                            OLS Regression Results                            \n",
      "==============================================================================\n",
      "Dep. Variable:                   diff   R-squared:                       0.026\n",
      "Model:                            OLS   Adj. R-squared:                  0.026\n",
      "Method:                 Least Squares   F-statistic:                     615.5\n",
      "Date:                Sat, 11 May 2019   Prob (F-statistic):               0.00\n",
      "Time:                        20:00:05   Log-Likelihood:            -1.3449e+05\n",
      "No. Observations:               68506   AIC:                         2.690e+05\n",
      "Df Residuals:                   68502   BIC:                         2.690e+05\n",
      "Df Model:                           3                                         \n",
      "Covariance Type:            nonrobust                                         \n",
      "=======================================================================================\n",
      "                          coef    std err          t      P>|t|      [0.025      0.975]\n",
      "---------------------------------------------------------------------------------------\n",
      "const                   0.3896      0.069      5.670      0.000       0.255       0.524\n",
      "lprice                 -2.1198      0.051    -41.369      0.000      -2.220      -2.019\n",
      "demand_instruments0    -1.4740      0.144    -10.205      0.000      -1.757      -1.191\n",
      "demand_instruments1     0.9198      0.139      6.619      0.000       0.647       1.192\n",
      "==============================================================================\n",
      "Omnibus:                      238.981   Durbin-Watson:                   0.165\n",
      "Prob(Omnibus):                  0.000   Jarque-Bera (JB):              189.282\n",
      "Skew:                          -0.045   Prob(JB):                     7.90e-42\n",
      "Kurtosis:                       2.759   Cond. No.                         52.7\n",
      "==============================================================================\n",
      "\n",
      "Warnings:\n",
      "[1] Standard Errors assume that the covariance matrix of the errors is correctly specified.\n"
     ]
    }
   ],
   "source": [
    "###############################################################################################\n",
    "#logit_formulation = pyblp.Formulation('prices  + if_cainiao + promise_speed',absorb='C(brand_id)')\n",
    "X1_formulation = pyblp.Formulation('1 + prices',absorb='C(brand_ids)')\n",
    "X2_formulation = pyblp.Formulation('0 + prices')\n",
    "product_formulations = (X1_formulation, X2_formulation)\n",
    "mc_integration = pyblp.Integration('monte_carlo', size=50, seed=0)\n",
    "bfgs = pyblp.Optimization('bfgs')\n",
    "problem = pyblp.Problem(product_formulations, bf, integration=mc_integration)\n",
    "logit_results = problem.solve( optimization=bfgs, sigma=np.ones((1, 1)))reg1 = sm.OLS(bf['diff'],bf[['const', 'lprice','demand_instruments0','demand_instruments1']], missing='drop')\n",
    "type(reg1)\n",
    "results = reg1.fit()\n",
    "type(results)\n",
    "print(results.summary())"
   ]
  },
  {
   "cell_type": "code",
   "execution_count": 35,
   "metadata": {},
   "outputs": [],
   "source": []
  },
  {
   "cell_type": "code",
   "execution_count": 27,
   "metadata": {},
   "outputs": [],
   "source": []
  },
  {
   "cell_type": "code",
   "execution_count": null,
   "metadata": {},
   "outputs": [],
   "source": []
  },
  {
   "cell_type": "code",
   "execution_count": null,
   "metadata": {},
   "outputs": [],
   "source": []
  },
  {
   "cell_type": "code",
   "execution_count": null,
   "metadata": {},
   "outputs": [],
   "source": []
  },
  {
   "cell_type": "code",
   "execution_count": null,
   "metadata": {},
   "outputs": [],
   "source": []
  },
  {
   "cell_type": "code",
   "execution_count": null,
   "metadata": {},
   "outputs": [],
   "source": []
  },
  {
   "cell_type": "code",
   "execution_count": null,
   "metadata": {},
   "outputs": [],
   "source": []
  },
  {
   "cell_type": "code",
   "execution_count": null,
   "metadata": {},
   "outputs": [],
   "source": []
  },
  {
   "cell_type": "code",
   "execution_count": null,
   "metadata": {},
   "outputs": [],
   "source": []
  },
  {
   "cell_type": "code",
   "execution_count": 17,
   "metadata": {},
   "outputs": [],
   "source": []
  },
  {
   "cell_type": "code",
   "execution_count": null,
   "metadata": {},
   "outputs": [],
   "source": []
  },
  {
   "cell_type": "code",
   "execution_count": null,
   "metadata": {},
   "outputs": [],
   "source": []
  }
 ],
 "metadata": {
  "kernelspec": {
   "display_name": "Python 3",
   "language": "python",
   "name": "python3"
  },
  "language_info": {
   "codemirror_mode": {
    "name": "ipython",
    "version": 3
   },
   "file_extension": ".py",
   "mimetype": "text/x-python",
   "name": "python",
   "nbconvert_exporter": "python",
   "pygments_lexer": "ipython3",
   "version": "3.7.1"
  }
 },
 "nbformat": 4,
 "nbformat_minor": 2
}
