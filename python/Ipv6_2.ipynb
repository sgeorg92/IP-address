{
 "cells": [
  {
   "cell_type": "code",
   "execution_count": 88,
   "metadata": {},
   "outputs": [],
   "source": [
    "import os \n",
    "import pandas as pd \n",
    "import matplotlib.pyplot as plt\n",
    "import statsmodels.api as sm\n",
    "import numpy as np\n",
    "from linearmodels import PanelOLS\n",
    "from linearmodels import RandomEffects\n",
    "import datetime\n",
    "os.chdir('C:/Users/sarah/Dropbox/Upenn Year 3/paper/IP Address/arin data/data')\n",
    "data=pd.read_csv('join.csv')\n",
    "data['year']=pd.DatetimeIndex(data['date_assigned']).year\n",
    "data=data.sort_values('date_assigned')\n",
    "data['inst_base']=data['size6'].cumsum()\n",
    "data['inst_base4']=data['size4'].cumsum()\n"
   ]
  },
  {
   "cell_type": "code",
   "execution_count": 78,
   "metadata": {},
   "outputs": [
    {
     "data": {
      "text/html": [
       "<table class=\"simpletable\">\n",
       "<caption>OLS Regression Results</caption>\n",
       "<tr>\n",
       "  <th>Dep. Variable:</th>          <td>adopt</td>      <th>  R-squared:         </th> <td>   0.001</td> \n",
       "</tr>\n",
       "<tr>\n",
       "  <th>Model:</th>                   <td>OLS</td>       <th>  Adj. R-squared:    </th> <td>   0.001</td> \n",
       "</tr>\n",
       "<tr>\n",
       "  <th>Method:</th>             <td>Least Squares</td>  <th>  F-statistic:       </th> <td>   67.82</td> \n",
       "</tr>\n",
       "<tr>\n",
       "  <th>Date:</th>             <td>Fri, 09 Aug 2019</td> <th>  Prob (F-statistic):</th> <td>1.83e-16</td> \n",
       "</tr>\n",
       "<tr>\n",
       "  <th>Time:</th>                 <td>12:52:40</td>     <th>  Log-Likelihood:    </th> <td> -15526.</td> \n",
       "</tr>\n",
       "<tr>\n",
       "  <th>No. Observations:</th>      <td> 53956</td>      <th>  AIC:               </th> <td>3.106e+04</td>\n",
       "</tr>\n",
       "<tr>\n",
       "  <th>Df Residuals:</th>          <td> 53954</td>      <th>  BIC:               </th> <td>3.107e+04</td>\n",
       "</tr>\n",
       "<tr>\n",
       "  <th>Df Model:</th>              <td>     1</td>      <th>                     </th>     <td> </td>    \n",
       "</tr>\n",
       "<tr>\n",
       "  <th>Covariance Type:</th>      <td>nonrobust</td>    <th>                     </th>     <td> </td>    \n",
       "</tr>\n",
       "</table>\n",
       "<table class=\"simpletable\">\n",
       "<tr>\n",
       "     <td></td>        <th>coef</th>     <th>std err</th>      <th>t</th>      <th>P>|t|</th>  <th>[0.025</th>    <th>0.975]</th>  \n",
       "</tr>\n",
       "<tr>\n",
       "  <th>const</th>   <td>    0.1197</td> <td>    0.001</td> <td>   85.439</td> <td> 0.000</td> <td>    0.117</td> <td>    0.122</td>\n",
       "</tr>\n",
       "<tr>\n",
       "  <th>cumsum4</th> <td>-1.081e-09</td> <td> 1.31e-10</td> <td>   -8.236</td> <td> 0.000</td> <td>-1.34e-09</td> <td>-8.24e-10</td>\n",
       "</tr>\n",
       "</table>\n",
       "<table class=\"simpletable\">\n",
       "<tr>\n",
       "  <th>Omnibus:</th>       <td>23547.982</td> <th>  Durbin-Watson:     </th> <td>   1.555</td> \n",
       "</tr>\n",
       "<tr>\n",
       "  <th>Prob(Omnibus):</th>  <td> 0.000</td>   <th>  Jarque-Bera (JB):  </th> <td>78872.760</td>\n",
       "</tr>\n",
       "<tr>\n",
       "  <th>Skew:</th>           <td> 2.360</td>   <th>  Prob(JB):          </th> <td>    0.00</td> \n",
       "</tr>\n",
       "<tr>\n",
       "  <th>Kurtosis:</th>       <td> 6.579</td>   <th>  Cond. No.          </th> <td>1.08e+07</td> \n",
       "</tr>\n",
       "</table><br/><br/>Warnings:<br/>[1] Standard Errors assume that the covariance matrix of the errors is correctly specified.<br/>[2] The condition number is large, 1.08e+07. This might indicate that there are<br/>strong multicollinearity or other numerical problems."
      ],
      "text/plain": [
       "<class 'statsmodels.iolib.summary.Summary'>\n",
       "\"\"\"\n",
       "                            OLS Regression Results                            \n",
       "==============================================================================\n",
       "Dep. Variable:                  adopt   R-squared:                       0.001\n",
       "Model:                            OLS   Adj. R-squared:                  0.001\n",
       "Method:                 Least Squares   F-statistic:                     67.82\n",
       "Date:                Fri, 09 Aug 2019   Prob (F-statistic):           1.83e-16\n",
       "Time:                        12:52:40   Log-Likelihood:                -15526.\n",
       "No. Observations:               53956   AIC:                         3.106e+04\n",
       "Df Residuals:                   53954   BIC:                         3.107e+04\n",
       "Df Model:                           1                                         \n",
       "Covariance Type:            nonrobust                                         \n",
       "==============================================================================\n",
       "                 coef    std err          t      P>|t|      [0.025      0.975]\n",
       "------------------------------------------------------------------------------\n",
       "const          0.1197      0.001     85.439      0.000       0.117       0.122\n",
       "cumsum4    -1.081e-09   1.31e-10     -8.236      0.000   -1.34e-09   -8.24e-10\n",
       "==============================================================================\n",
       "Omnibus:                    23547.982   Durbin-Watson:                   1.555\n",
       "Prob(Omnibus):                  0.000   Jarque-Bera (JB):            78872.760\n",
       "Skew:                           2.360   Prob(JB):                         0.00\n",
       "Kurtosis:                       6.579   Cond. No.                     1.08e+07\n",
       "==============================================================================\n",
       "\n",
       "Warnings:\n",
       "[1] Standard Errors assume that the covariance matrix of the errors is correctly specified.\n",
       "[2] The condition number is large, 1.08e+07. This might indicate that there are\n",
       "strong multicollinearity or other numerical problems.\n",
       "\"\"\""
      ]
     },
     "execution_count": 78,
     "metadata": {},
     "output_type": "execute_result"
    }
   ],
   "source": [
    "#All three models say that having larger amount of ipv4 means that the org is less likely to adopt v6\n",
    "#Simple linear regression\n",
    "y=data['adopt']\n",
    "X=data['cumsum4']\n",
    "X=sm.add_constant(X)\n",
    "model=sm.OLS(y,X).fit()\n",
    "predictions=model.predict(X)\n",
    "regression=model.summary().as_text()\n",
    "import csv\n",
    "resultfile=open(\"reg1.csv\",\"w\")\n",
    "resultfile.write(regression)\n",
    "resultfile.close()\n",
    "model.summary()"
   ]
  },
  {
   "cell_type": "code",
   "execution_count": 56,
   "metadata": {},
   "outputs": [],
   "source": [
    "#Random effects regression using year \n",
    "#Uncomment the second line when running for the first time\n",
    "#data=data.set_index(['org','year'])\n",
    "exog_vars=['cumsum4']\n",
    "exog=sm.add_constant(data[exog_vars])\n",
    "mod=RandomEffects(data['adopt'],exog)\n",
    "re_res=mod.fit()\n",
    "import csv\n",
    "resultfile=open(\"reg2.csv\",\"w\")\n",
    "resultfile.write(regression)\n",
    "resultfile.close()\n"
   ]
  },
  {
   "cell_type": "code",
   "execution_count": 44,
   "metadata": {},
   "outputs": [],
   "source": [
    "#Fixed  effects regression using year \n",
    "#Uncomment the second line when running for the first time\n",
    "#data=data.set_index(['org','year'])\n",
    "exog_vars=['cumsum4']\n",
    "exog=sm.add_constant(data[exog_vars])\n",
    "mod=PanelOLS(data['adopt'],exog)\n",
    "re_res=mod.fit()\n",
    "import csv\n",
    "resultfile=open(\"reg3.csv\",\"w\")\n",
    "resultfile.write(regression)\n",
    "resultfile.close()\n"
   ]
  },
  {
   "cell_type": "code",
   "execution_count": null,
   "metadata": {},
   "outputs": [],
   "source": [
    "#Uncomment this if done after the above two cells \n",
    "#data=data.reset_index()\n",
    "#There is greater adoption as the installed base is higher \n"
   ]
  },
  {
   "cell_type": "code",
   "execution_count": null,
   "metadata": {},
   "outputs": [],
   "source": []
  }
 ],
 "metadata": {
  "kernelspec": {
   "display_name": "Python 3",
   "language": "python",
   "name": "python3"
  },
  "language_info": {
   "codemirror_mode": {
    "name": "ipython",
    "version": 3
   },
   "file_extension": ".py",
   "mimetype": "text/x-python",
   "name": "python",
   "nbconvert_exporter": "python",
   "pygments_lexer": "ipython3",
   "version": "3.7.1"
  }
 },
 "nbformat": 4,
 "nbformat_minor": 2
}
