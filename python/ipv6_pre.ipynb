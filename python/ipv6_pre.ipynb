{
 "cells": [
  {
   "cell_type": "code",
   "execution_count": 28,
   "metadata": {},
   "outputs": [],
   "source": [
    "import pandas\n",
    "import re\n",
    "import netaddr\n",
    "import os \n",
    "os.chdir('C:/Users/sarah/Dropbox/Upenn Year 3/paper/IP Address/0_Old/python')\n",
    "df = pandas.read_csv('4_transfers.csv')\n",
    "\n",
    "df['ip4nets.original_set.start_address']=df['ip4nets.original_set.start_address'].astype(str)\n",
    "df['ip4nets.original_set.end_address']=df['ip4nets.original_set.end_address'].astype(str)\n",
    "df['ip4nets.transfer_set.start_address']=df['ip4nets.transfer_set.start_address'].astype(str)\n",
    "df['ip4nets.transfer_set.end_address']=df['ip4nets.transfer_set.end_address'].astype(str)\n",
    "\n",
    "ipNew = (df['ip4nets.original_set.start_address'])\n",
    "ipNew1 = (df['ip4nets.original_set.end_address'])\n",
    "ipNew2 = (df['ip4nets.transfer_set.start_address'])\n",
    "ipNew3 = (df['ip4nets.transfer_set.end_address'])\n",
    "\n",
    "# function to remove leading zeros\n",
    "def removeZeros(ipNew):\n",
    "     new_ip = [0] * 4345\n",
    "     for i in range(0,4344):\n",
    "         new_ip[i] = re.sub(r'\\b0+(\\d)', r'\\1', ipNew[i])\n",
    "         #print(new_ip[i])\n",
    "     return new_ip\n",
    "\n",
    "df['ipNew'] = removeZeros(ipNew)\n",
    "df['ipNew1'] = removeZeros(ipNew1)\n",
    "df['ipNew2'] = removeZeros(ipNew2)\n",
    "df['ipNew3'] = removeZeros(ipNew3)\n",
    "\n",
    "df.to_csv('4_transfers_Final_New.csv')\n",
    "\n",
    "\n"
   ]
  },
  {
   "cell_type": "code",
   "execution_count": 27,
   "metadata": {},
   "outputs": [],
   "source": []
  }
 ],
 "metadata": {
  "kernelspec": {
   "display_name": "Python 3",
   "language": "python",
   "name": "python3"
  },
  "language_info": {
   "codemirror_mode": {
    "name": "ipython",
    "version": 3
   },
   "file_extension": ".py",
   "mimetype": "text/x-python",
   "name": "python",
   "nbconvert_exporter": "python",
   "pygments_lexer": "ipython3",
   "version": "3.7.1"
  }
 },
 "nbformat": 4,
 "nbformat_minor": 2
}
